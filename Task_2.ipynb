{
  "nbformat": 4,
  "nbformat_minor": 0,
  "metadata": {
    "colab": {
      "name": "Task_2.ipynb",
      "provenance": [],
      "authorship_tag": "ABX9TyPDppyZlJYla50OzG7aUp/g",
      "include_colab_link": true
    },
    "kernelspec": {
      "name": "python3",
      "display_name": "Python 3"
    },
    "language_info": {
      "name": "python"
    }
  },
  "cells": [
    {
      "cell_type": "markdown",
      "metadata": {
        "id": "view-in-github",
        "colab_type": "text"
      },
      "source": [
        "<a href=\"https://colab.research.google.com/github/irvandandung/task_machine_learning/blob/main/Task_2.ipynb\" target=\"_parent\"><img src=\"https://colab.research.google.com/assets/colab-badge.svg\" alt=\"Open In Colab\"/></a>"
      ]
    },
    {
      "cell_type": "code",
      "source": [
        "array = [8, 6, 5, 3, 2, 1]"
      ],
      "metadata": {
        "id": "dEOQu7LBqrvA"
      },
      "execution_count": 2,
      "outputs": []
    },
    {
      "cell_type": "markdown",
      "source": [
        "Latihan Numpy Package"
      ],
      "metadata": {
        "id": "AepqOXE0qHPZ"
      }
    },
    {
      "cell_type": "code",
      "execution_count": 3,
      "metadata": {
        "colab": {
          "base_uri": "https://localhost:8080/"
        },
        "id": "38v6g9e0qD7W",
        "outputId": "66e9e078-5bc5-44ac-f1ca-385c7fac913b"
      },
      "outputs": [
        {
          "output_type": "stream",
          "name": "stdout",
          "text": [
            "[8 6 5 3 2 1]\n"
          ]
        }
      ],
      "source": [
        "import numpy as np\n",
        "\n",
        "numpy_array = np.array(array)\n",
        "print(numpy_array)"
      ]
    },
    {
      "cell_type": "markdown",
      "source": [
        "Latihan Panda Package"
      ],
      "metadata": {
        "id": "nv0f9AuFqjej"
      }
    },
    {
      "cell_type": "code",
      "source": [
        "import pandas as pd\n",
        "\n",
        "s = pd.Series(array)\n",
        "print(s)"
      ],
      "metadata": {
        "colab": {
          "base_uri": "https://localhost:8080/"
        },
        "id": "hKQMv6sKrBVd",
        "outputId": "1bb751e8-322d-4dfe-bd9a-f91d1b1dff39"
      },
      "execution_count": 4,
      "outputs": [
        {
          "output_type": "stream",
          "name": "stdout",
          "text": [
            "0    8\n",
            "1    6\n",
            "2    5\n",
            "3    3\n",
            "4    2\n",
            "5    1\n",
            "dtype: int64\n"
          ]
        }
      ]
    },
    {
      "cell_type": "markdown",
      "source": [
        "Latihan Matplotlib Package"
      ],
      "metadata": {
        "id": "YVgjcdu-rKWI"
      }
    },
    {
      "cell_type": "code",
      "source": [
        "df = pd.DataFrame({\n",
        "    'Nama': ['Budi', 'Dandung', 'Narti'],\n",
        "    'Umur': [18, 17, 20],\n",
        "    'Jumlah Saudara': [1, 0, 2],\n",
        "    'Jumlah Hewan': [1, 1, 1],\n",
        "})\n",
        "\n",
        "df.plot(kind='bar', x='Nama', y='Jumlah Saudara') \n",
        "df.plot(kind='line', x='Nama', y='Umur')"
      ],
      "metadata": {
        "colab": {
          "base_uri": "https://localhost:8080/",
          "height": 594
        },
        "id": "94NQyJO_rm6t",
        "outputId": "ba8de7d3-a9e5-4503-e6fb-66795404938e"
      },
      "execution_count": 6,
      "outputs": [
        {
          "output_type": "execute_result",
          "data": {
            "text/plain": [
              "<matplotlib.axes._subplots.AxesSubplot at 0x7f30d0ccced0>"
            ]
          },
          "metadata": {},
          "execution_count": 6
        },
        {
          "output_type": "display_data",
          "data": {
            "text/plain": [
              "<Figure size 432x288 with 1 Axes>"
            ],
            "image/png": "[encoded data removed]"
          },
          "metadata": {
            "needs_background": "light"
          }
        },
        {
          "output_type": "display_data",
          "data": {
            "text/plain": [
              "<Figure size 432x288 with 1 Axes>"
            ],
            "image/png": "[encoded data removed]"
          },
          "metadata": {
            "needs_background": "light"
          }
        }
      ]
    }
  ]
}