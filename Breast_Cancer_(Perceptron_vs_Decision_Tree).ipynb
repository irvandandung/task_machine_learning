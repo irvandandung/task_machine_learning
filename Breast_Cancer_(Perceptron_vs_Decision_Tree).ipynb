{
  "nbformat": 4,
  "nbformat_minor": 0,
  "metadata": {
    "colab": {
      "name": "Breast Cancer (Perceptron vs Decision Tree).ipynb",
      "provenance": [],
      "authorship_tag": "ABX9TyOfmlY1J6iiSuzvMJzikITP",
      "include_colab_link": true
    },
    "kernelspec": {
      "name": "python3",
      "display_name": "Python 3"
    },
    "language_info": {
      "name": "python"
    }
  },
  "cells": [
    {
      "cell_type": "markdown",
      "metadata": {
        "id": "view-in-github",
        "colab_type": "text"
      },
      "source": [
        "<a href=\"https://colab.research.google.com/github/irvandandung/task_machine_learning/blob/main/Breast_Cancer_(Perceptron_vs_Decision_Tree).ipynb\" target=\"_parent\"><img src=\"https://colab.research.google.com/assets/colab-badge.svg\" alt=\"Open In Colab\"/></a>"
      ]
    },
    {
      "cell_type": "markdown",
      "source": [
        "Percepton"
      ],
      "metadata": {
        "id": "YAWFcpl-3tEj"
      }
    },
    {
      "cell_type": "code",
      "execution_count": 4,
      "metadata": {
        "colab": {
          "base_uri": "https://localhost:8080/"
        },
        "id": "ZJwfmat-2eZX",
        "outputId": "625011de-f145-4fd2-b8a6-c37ec4a80001"
      },
      "outputs": [
        {
          "output_type": "stream",
          "name": "stdout",
          "text": [
            "TP=40, FP=0, TN=89, FN=14\n",
            "Sensitivity: 0.741\n",
            "Specificity: 1.0\n",
            "Accuracy: 0.902\n",
            "Balanced Accuracy: 0.87\n",
            "Precision: 1.0\n",
            "F1 Score: 0.851\n",
            "MCC: 0.8\n",
            "\n"
          ]
        },
        {
          "output_type": "stream",
          "name": "stderr",
          "text": [
            "/usr/local/lib/python3.7/dist-packages/sklearn/linear_model/_stochastic_gradient.py:700: ConvergenceWarning: Maximum number of iteration reached before convergence. Consider increasing max_iter to improve the fit.\n",
            "  ConvergenceWarning,\n"
          ]
        }
      ],
      "source": [
        "import numpy as np\n",
        "import pandas as pd\n",
        "from sklearn.linear_model import Perceptron\n",
        "from sklearn.model_selection import train_test_split\n",
        "from sklearn.metrics import confusion_matrix\n",
        "import math\n",
        "\n",
        "data = pd.read_csv(\"data_tugas_2.csv\",header=0)\n",
        "\n",
        "data.drop([\"Unnamed: 32\",\"id\"], axis=1, inplace=True)\n",
        "\n",
        "data.diagnosis = [1 if each == \"M\" else 0 for each in data.diagnosis]\n",
        "\n",
        "m_data = data.loc[data['diagnosis'] == 1]\n",
        "\n",
        "b_data = data.loc[data['diagnosis'] == 0]\n",
        "\n",
        "b_data.head(10)\n",
        "\n",
        "x = data.iloc[:, 1:]\n",
        "y = data['diagnosis'].tolist()\n",
        "\n",
        "x_train, x_test, y_train, y_test = train_test_split(x, y, test_size=0.25, random_state=42)\n",
        "\n",
        "model_clf = Perceptron(max_iter=10, eta0=0.1, random_state=0)\n",
        "\n",
        "model_clf.fit(x_train, y_train)\n",
        "\n",
        "y_pred = model_clf.predict(x_test)\n",
        "\n",
        "lst_actual_class = y_test\n",
        "lst_predicted_class = y_pred\n",
        "\n",
        "lst_classes = [0, 1]\n",
        "\n",
        "tn, fp, fn, tp = confusion_matrix(lst_actual_class, lst_predicted_class, labels=lst_classes).ravel()\n",
        "sensitivity = round(tp/(tp+fn), 3);\n",
        "specificity = round(tn/(tn+fp), 3);\n",
        "accuracy = round((tp+tn)/(tp+fp+tn+fn), 3);\n",
        "balanced_accuracy = round((sensitivity+specificity)/2, 3);\n",
        "mcc = round(((tp*tn)-(fp*fn))/(math.sqrt((tp+fp)*(tp+fn)*(tn+fp)*(tn+fn))), 3);\n",
        "precision = round(tp/(tp+fp),3);\n",
        "f1 = round(2*tp/(2*tp+(fp+fn)),3);\n",
        "\n",
        "print(\"TP={0}, FP={1}, TN={2}, FN={3}\".format(tp, fp, tn, fn));\n",
        "print(\"Sensitivity: {0}\".format(sensitivity));\n",
        "print(\"Specificity: {0}\".format(specificity));\n",
        "print(\"Accuracy: {0}\".format(accuracy));\n",
        "print(\"Balanced Accuracy: {0}\".format(balanced_accuracy));\n",
        "print(\"Precision: {0}\".format(precision));\n",
        "print (\"F1 Score: {0}\".format(f1));\n",
        "print(\"MCC: {0}\\n\".format(mcc));"
      ]
    },
    {
      "cell_type": "markdown",
      "source": [
        "Decision Tree"
      ],
      "metadata": {
        "id": "v2-wrCgO3wvK"
      }
    },
    {
      "cell_type": "code",
      "source": [
        "import numpy as np \n",
        "import pandas as pd \n",
        "import matplotlib.pyplot as plt\n",
        "from sklearn.tree import DecisionTreeClassifier\n",
        "\n",
        "data = pd.read_csv(\"data_tugas_2.csv\",header=0)\n",
        "data = data.drop([\"id\"], axis = 1)\n",
        "data = data.drop([\"Unnamed: 32\"], axis = 1)\n",
        "\n",
        "data.diagnosis = [1 if i == \"M\" else 0 for i in data.diagnosis]\n",
        "x = data.drop([\"diagnosis\"], axis = 1)\n",
        "y = data.diagnosis.values\n",
        "\n",
        "# Normalization:\n",
        "x = (x - np.min(x)) / (np.max(x) - np.min(x))\n",
        "\n",
        "from sklearn.model_selection import train_test_split\n",
        "\n",
        "x_train, x_test, y_train, y_test = train_test_split(x, y, test_size = 0.3, random_state = 42)\n",
        "\n",
        "dt = DecisionTreeClassifier()\n",
        "x_train\n",
        "dt.fit(x_train, y_train)\n",
        "\n",
        "# prediction\n",
        "print(\"Accuracy: {0}\".format(dt.score(x_test, y_test)));"
      ],
      "metadata": {
        "colab": {
          "base_uri": "https://localhost:8080/"
        },
        "id": "RIpmpOCD4dE_",
        "outputId": "7d068209-d655-4af8-92fb-8221e68fdc02"
      },
      "execution_count": 19,
      "outputs": [
        {
          "output_type": "stream",
          "name": "stdout",
          "text": [
            "Accuracy: 0.935672514619883\n"
          ]
        }
      ]
    }
  ]
}