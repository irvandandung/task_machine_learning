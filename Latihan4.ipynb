{
  "nbformat": 4,
  "nbformat_minor": 0,
  "metadata": {
    "colab": {
      "name": "Latihan4.ipynb",
      "provenance": [],
      "authorship_tag": "ABX9TyM7Kdo0Xidy51u4lPr7wgAf",
      "include_colab_link": true
    },
    "kernelspec": {
      "name": "python3",
      "display_name": "Python 3"
    },
    "language_info": {
      "name": "python"
    }
  },
  "cells": [
    {
      "cell_type": "markdown",
      "metadata": {
        "id": "view-in-github",
        "colab_type": "text"
      },
      "source": [
        "<a href=\"https://colab.research.google.com/github/irvandandung/task_machine_learning/blob/main/Latihan4.ipynb\" target=\"_parent\"><img src=\"https://colab.research.google.com/assets/colab-badge.svg\" alt=\"Open In Colab\"/></a>"
      ]
    },
    {
      "cell_type": "markdown",
      "source": [
        "Import library or package"
      ],
      "metadata": {
        "id": "cjE8VlDzyk_b"
      }
    },
    {
      "cell_type": "code",
      "execution_count": 17,
      "metadata": {
        "id": "Dvkr7n4TykXu"
      },
      "outputs": [],
      "source": [
        "from sklearn.neighbors import KNeighborsClassifier"
      ]
    },
    {
      "cell_type": "markdown",
      "source": [
        "data training & labelling"
      ],
      "metadata": {
        "id": "ltQnRqcjy6Ui"
      }
    },
    {
      "cell_type": "code",
      "source": [
        "x_train = [[2,2,50], [2,2,45], [4,0,300], [4,0,255]]\n",
        "y_train = [\"manusia\", \"manusia\", \"sapi\", \"sapi\"]"
      ],
      "metadata": {
        "id": "mC1D_06py-c0"
      },
      "execution_count": 18,
      "outputs": []
    },
    {
      "cell_type": "markdown",
      "source": [
        "pemanggilan fungsi k-NN dg k-1 dan proses training"
      ],
      "metadata": {
        "id": "y4HVLxgbzUNf"
      }
    },
    {
      "cell_type": "code",
      "source": [
        "near = KNeighborsClassifier(n_neighbors=2)\n",
        "near.fit(x_train, y_train)"
      ],
      "metadata": {
        "colab": {
          "base_uri": "https://localhost:8080/"
        },
        "id": "bx2zSItmzW1Z",
        "outputId": "95d2d24f-ce12-4785-d90d-87babc57cb05"
      },
      "execution_count": 19,
      "outputs": [
        {
          "output_type": "execute_result",
          "data": {
            "text/plain": [
              "KNeighborsClassifier(n_neighbors=2)"
            ]
          },
          "metadata": {},
          "execution_count": 19
        }
      ]
    },
    {
      "cell_type": "markdown",
      "source": [
        "data non label"
      ],
      "metadata": {
        "id": "USA5GAtmzte8"
      }
    },
    {
      "cell_type": "code",
      "source": [
        "unlabelled = [[2,2,30], [4,0,332], [4,0,150]]"
      ],
      "metadata": {
        "id": "67nUr1gfzzCV"
      },
      "execution_count": 20,
      "outputs": []
    },
    {
      "cell_type": "markdown",
      "source": [
        "proses klasifikasi & print hasil klasifikasi"
      ],
      "metadata": {
        "id": "D2JBTfkZz3l1"
      }
    },
    {
      "cell_type": "code",
      "source": [
        "hasil = near.predict(unlabelled)\n",
        "for idx, val in enumerate(hasil):\n",
        "  print('label data '+str(idx+1)+' adalah: '+val)\n"
      ],
      "metadata": {
        "colab": {
          "base_uri": "https://localhost:8080/"
        },
        "id": "8LyBPQZLz-SO",
        "outputId": "a0e7db1f-6700-48ce-d569-80986487f025"
      },
      "execution_count": 21,
      "outputs": [
        {
          "output_type": "stream",
          "name": "stdout",
          "text": [
            "label data 1 adalah: manusia\n",
            "label data 2 adalah: sapi\n",
            "label data 3 adalah: manusia\n"
          ]
        }
      ]
    }
  ]
}