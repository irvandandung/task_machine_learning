{
  "nbformat": 4,
  "nbformat_minor": 0,
  "metadata": {
    "colab": {
      "name": "ML_Latihan3.ipynb",
      "provenance": [],
      "authorship_tag": "ABX9TyOO5cI9QxVedRHzr/OiFAZZ",
      "include_colab_link": true
    },
    "kernelspec": {
      "name": "python3",
      "display_name": "Python 3"
    },
    "language_info": {
      "name": "python"
    }
  },
  "cells": [
    {
      "cell_type": "markdown",
      "metadata": {
        "id": "view-in-github",
        "colab_type": "text"
      },
      "source": [
        "<a href=\"https://colab.research.google.com/github/irvandandung/task_machine_learning/blob/main/ML_Latihan3.ipynb\" target=\"_parent\"><img src=\"https://colab.research.google.com/assets/colab-badge.svg\" alt=\"Open In Colab\"/></a>"
      ]
    },
    {
      "cell_type": "markdown",
      "source": [
        "Import library scikit learn"
      ],
      "metadata": {
        "id": "D-rdqD4nI4wO"
      }
    },
    {
      "cell_type": "code",
      "execution_count": 1,
      "metadata": {
        "id": "3-POdSNFItm2"
      },
      "outputs": [],
      "source": [
        "from sklearn.tree import DecisionTreeClassifier"
      ]
    },
    {
      "cell_type": "markdown",
      "source": [
        "Data training / training set"
      ],
      "metadata": {
        "id": "5d0Mg5sLJJlK"
      }
    },
    {
      "cell_type": "code",
      "source": [
        "x_train = [[2,2,50], [2,2,45],[4,0,300],[4,0,225]]"
      ],
      "metadata": {
        "id": "0ewWbKjhJeIi"
      },
      "execution_count": 2,
      "outputs": []
    },
    {
      "cell_type": "markdown",
      "source": [
        "Label Train"
      ],
      "metadata": {
        "id": "vfdDBmQmJrX-"
      }
    },
    {
      "cell_type": "code",
      "source": [
        "y_train = [\"manusia\", \"manusia\", \"sapi\", \"sapi\"]"
      ],
      "metadata": {
        "id": "6z5IFlO1JthG"
      },
      "execution_count": 3,
      "outputs": []
    },
    {
      "cell_type": "markdown",
      "source": [
        "Pemanggilan object DecisionTreeClassifier"
      ],
      "metadata": {
        "id": "ubEPFJEFJ0Ri"
      }
    },
    {
      "cell_type": "code",
      "source": [
        "tree = DecisionTreeClassifier()"
      ],
      "metadata": {
        "id": "crZKP1NsJ2of"
      },
      "execution_count": 4,
      "outputs": []
    },
    {
      "cell_type": "markdown",
      "source": [
        "proses training"
      ],
      "metadata": {
        "id": "mnSzbR8nKGNe"
      }
    },
    {
      "cell_type": "code",
      "source": [
        "tree.fit(x_train, y_train)"
      ],
      "metadata": {
        "colab": {
          "base_uri": "https://localhost:8080/"
        },
        "id": "iVrHTUZ4KI3i",
        "outputId": "85ab6a3a-cd65-4a21-e614-72d5ecbbaf0d"
      },
      "execution_count": 5,
      "outputs": [
        {
          "output_type": "execute_result",
          "data": {
            "text/plain": [
              "DecisionTreeClassifier()"
            ]
          },
          "metadata": {},
          "execution_count": 5
        }
      ]
    },
    {
      "cell_type": "markdown",
      "source": [
        "Unlabelled Data"
      ],
      "metadata": {
        "id": "PcT48G-RKQQQ"
      }
    },
    {
      "cell_type": "code",
      "source": [
        "unlabelled = [[2,2,30], [4,0,332], [2,2,150]]"
      ],
      "metadata": {
        "id": "w1eVWDGcKVWu"
      },
      "execution_count": 6,
      "outputs": []
    },
    {
      "cell_type": "markdown",
      "source": [
        "Proses & Hasil Predict"
      ],
      "metadata": {
        "id": "2fe3EHOBKiAh"
      }
    },
    {
      "cell_type": "code",
      "source": [
        "hasil = tree.predict(unlabelled)\n",
        "print(hasil)"
      ],
      "metadata": {
        "colab": {
          "base_uri": "https://localhost:8080/"
        },
        "id": "zb4snQl5KwM1",
        "outputId": "72805075-6c10-480a-a8ce-c95d07a617c6"
      },
      "execution_count": 7,
      "outputs": [
        {
          "output_type": "stream",
          "name": "stdout",
          "text": [
            "['manusia' 'sapi' 'sapi']\n"
          ]
        }
      ]
    }
  ]
}